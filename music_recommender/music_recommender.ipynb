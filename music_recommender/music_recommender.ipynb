{
 "cells": [
  {
   "cell_type": "code",
   "execution_count": 18,
   "id": "c2e631f1-1ce6-48a4-9fe7-863d51a3ba90",
   "metadata": {},
   "outputs": [],
   "source": [
    "import pandas as pd"
   ]
  },
  {
   "cell_type": "code",
   "execution_count": 19,
   "id": "d1668db4-5e77-4f92-960e-f20c8062e3e9",
   "metadata": {},
   "outputs": [],
   "source": [
    "df = pd.read_csv(\"spotify_millsongdata.csv\")"
   ]
  },
  {
   "cell_type": "code",
   "execution_count": 20,
   "id": "0e617008-8f8c-4e31-b399-8fe26d6d04d8",
   "metadata": {},
   "outputs": [
    {
     "data": {
      "text/plain": [
       "artist    0\n",
       "song      0\n",
       "link      0\n",
       "text      0\n",
       "dtype: int64"
      ]
     },
     "execution_count": 20,
     "metadata": {},
     "output_type": "execute_result"
    }
   ],
   "source": [
    "df.isnull().sum()"
   ]
  },
  {
   "cell_type": "code",
   "execution_count": 21,
   "id": "4e0bc104-fb7f-4f23-8af6-b3cdbd3b3d5a",
   "metadata": {},
   "outputs": [],
   "source": [
    "df = df.sample(5000).drop(\"link\", axis = 1).reset_index(drop = True)"
   ]
  },
  {
   "cell_type": "code",
   "execution_count": 23,
   "id": "95305a5f-0b89-46fb-a282-017ee43f1d57",
   "metadata": {},
   "outputs": [],
   "source": [
    "df[\"text\"] = df[\"text\"].str.lower().replace(r\"^\\w\\s\", \"\").replace(r\"\\n\", \" \", regex = True)"
   ]
  },
  {
   "cell_type": "code",
   "execution_count": 24,
   "id": "0194202d-cc90-4ae5-975a-110833c3ebce",
   "metadata": {},
   "outputs": [],
   "source": [
    "import nltk\n",
    "from nltk.stem.porter import PorterStemmer"
   ]
  },
  {
   "cell_type": "code",
   "execution_count": 25,
   "id": "607e9a38-b5a5-49fa-b1b1-d26761a1a9ad",
   "metadata": {},
   "outputs": [],
   "source": [
    "stemmer = PorterStemmer()"
   ]
  },
  {
   "cell_type": "code",
   "execution_count": 26,
   "id": "9c3805f9-0c44-4839-9019-78c0096c9476",
   "metadata": {},
   "outputs": [],
   "source": [
    "def token(txt):\n",
    "    token = nltk.word_tokenize(txt)\n",
    "    a = [stemmer.stem(w) for w in token]\n",
    "    return \" \".join(a)"
   ]
  },
  {
   "cell_type": "code",
   "execution_count": 27,
   "id": "2c098125-806c-4a7f-ad87-41265d034e99",
   "metadata": {},
   "outputs": [
    {
     "data": {
      "text/plain": [
       "0       i know that you alreadi take as read i help yo...\n",
       "1       it 's a shame you have a mind of your own now ...\n",
       "2       straight gangsta mack straight gangsta mack st...\n",
       "3       if i should get a look of leavin ' in my eye p...\n",
       "4       see what you do you make me act so crazi i 'm ...\n",
       "                              ...                        \n",
       "4995    could you show me what love is about ? could y...\n",
       "4996    midnight , someth do n't feel right it 's been...\n",
       "4997    i wrap you insid my coat when they came to fir...\n",
       "4998    she 's everyth a marri man should look for in ...\n",
       "4999    sometim i think i 'm gon na drown 'caus everyo...\n",
       "Name: text, Length: 5000, dtype: object"
      ]
     },
     "execution_count": 27,
     "metadata": {},
     "output_type": "execute_result"
    }
   ],
   "source": [
    "df[\"text\"].apply(lambda x : token(x))"
   ]
  },
  {
   "cell_type": "code",
   "execution_count": 28,
   "id": "6d6cc14c-50fb-4344-b074-3d7e65c26f97",
   "metadata": {},
   "outputs": [],
   "source": [
    "from sklearn.feature_extraction.text import TfidfVectorizer\n",
    "from sklearn.metrics.pairwise import cosine_similarity"
   ]
  },
  {
   "cell_type": "code",
   "execution_count": 29,
   "id": "aff9ae3a-0467-4f61-9e85-b33c430d98a8",
   "metadata": {},
   "outputs": [],
   "source": [
    "tfid = TfidfVectorizer(analyzer = \"word\", stop_words = \"english\")"
   ]
  },
  {
   "cell_type": "code",
   "execution_count": 30,
   "id": "87dd4b94-15f0-44c2-b661-a4f737671402",
   "metadata": {},
   "outputs": [],
   "source": [
    "sparse_matrix = tfid.fit_transform(df[\"text\"])"
   ]
  },
  {
   "cell_type": "code",
   "execution_count": 31,
   "id": "8f7f0dba-a14e-44e9-b737-70928eb8a29e",
   "metadata": {},
   "outputs": [],
   "source": [
    "similarity = cosine_similarity(sparse_matrix)"
   ]
  },
  {
   "cell_type": "code",
   "execution_count": 37,
   "id": "6a439625-3296-4b81-a419-1e3116749136",
   "metadata": {},
   "outputs": [],
   "source": [
    "def recommender(song_name):\n",
    "    index = df[df[\"song\"] == song_name].index[0]\n",
    "    distance = sorted(list(enumerate(similarity[index])), reverse = True, key = lambda x : x[1])\n",
    "    song = []\n",
    "    for song_id in distance[1:5]:\n",
    "        song.append(df.iloc[song_id[0]].song)\n",
    "\n",
    "    return song"
   ]
  },
  {
   "cell_type": "code",
   "execution_count": 40,
   "id": "35694611-e0d0-4e14-92d6-793e68e96470",
   "metadata": {},
   "outputs": [
    {
     "data": {
      "text/plain": [
       "['Danger Zone', 'Danger Ahead', 'Calling All Zones', 'Danger']"
      ]
     },
     "execution_count": 40,
     "metadata": {},
     "output_type": "execute_result"
    }
   ],
   "source": [
    "recommender(\"Danger Zone\")"
   ]
  }
 ],
 "metadata": {
  "kernelspec": {
   "display_name": "Python 3 (ipykernel)",
   "language": "python",
   "name": "python3"
  },
  "language_info": {
   "codemirror_mode": {
    "name": "ipython",
    "version": 3
   },
   "file_extension": ".py",
   "mimetype": "text/x-python",
   "name": "python",
   "nbconvert_exporter": "python",
   "pygments_lexer": "ipython3",
   "version": "3.11.0"
  }
 },
 "nbformat": 4,
 "nbformat_minor": 5
}
